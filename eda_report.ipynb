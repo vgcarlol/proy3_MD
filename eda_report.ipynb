{
 "cells": [
  {
   "cell_type": "markdown",
   "id": "2503a018",
   "metadata": {},
   "source": [
    "# Proyecto 3 Minería de Datos\n",
    "## Integrantes:\n",
    "- Carlos Valladares, 221164\n",
    "- Julio Lemus,\n",
    "- Hugo Rivas,\n",
    "- Alexis Mesias"
   ]
  },
  {
   "cell_type": "markdown",
   "id": "0d9ea4f5",
   "metadata": {},
   "source": [
    "### Carga de datos y unión de tablas"
   ]
  },
  {
   "cell_type": "code",
   "execution_count": 6,
   "id": "0f7da4a1",
   "metadata": {},
   "outputs": [
    {
     "name": "stdout",
     "output_type": "stream",
     "text": [
      "✅ df creado correctamente con shape: (114092, 12)\n"
     ]
    }
   ],
   "source": [
    "import pandas as pd\n",
    "\n",
    "# Asegúrate de que los archivos están en la carpeta 'data/'\n",
    "orders = pd.read_csv(\"data/olist_orders_dataset.csv\")\n",
    "order_items = pd.read_csv(\"data/olist_order_items_dataset.csv\")\n",
    "products = pd.read_csv(\"data/olist_products_dataset.csv\")\n",
    "reviews = pd.read_csv(\"data/olist_order_reviews_dataset.csv\")\n",
    "customers = pd.read_csv(\"data/olist_customers_dataset.csv\")\n",
    "\n",
    "# Convertir fechas a formato datetime\n",
    "orders['order_purchase_timestamp'] = pd.to_datetime(orders['order_purchase_timestamp'])\n",
    "orders['order_delivered_customer_date'] = pd.to_datetime(orders['order_delivered_customer_date'])\n",
    "\n",
    "# Calcular el tiempo de entrega en días\n",
    "orders['delivery_time'] = (orders['order_delivered_customer_date'] - orders['order_purchase_timestamp']).dt.days\n",
    "\n",
    "# Unir las tablas necesarias\n",
    "df = orders.merge(order_items, on='order_id', how='left') \\\n",
    "           .merge(products, on='product_id', how='left') \\\n",
    "           .merge(reviews, on='order_id', how='left') \\\n",
    "           .merge(customers, on='customer_id', how='left')\n",
    "\n",
    "# Mantener solo las columnas clave\n",
    "df = df[['order_id', 'customer_id', 'order_purchase_timestamp', 'delivery_time',\n",
    "         'price', 'freight_value', 'review_score', 'product_category_name',\n",
    "         'product_weight_g', 'product_length_cm', 'product_height_cm', 'product_width_cm']]\n",
    "\n",
    "print(\"✅ df creado correctamente con shape:\", df.shape)\n"
   ]
  }
 ],
 "metadata": {
  "kernelspec": {
   "display_name": "Python 3",
   "language": "python",
   "name": "python3"
  },
  "language_info": {
   "codemirror_mode": {
    "name": "ipython",
    "version": 3
   },
   "file_extension": ".py",
   "mimetype": "text/x-python",
   "name": "python",
   "nbconvert_exporter": "python",
   "pygments_lexer": "ipython3",
   "version": "3.12.3"
  }
 },
 "nbformat": 4,
 "nbformat_minor": 5
}
